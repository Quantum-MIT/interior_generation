{
  "nbformat": 4,
  "nbformat_minor": 0,
  "metadata": {
    "colab": {
      "provenance": [],
      "gpuType": "T4"
    },
    "kernelspec": {
      "name": "python3",
      "display_name": "Python 3"
    },
    "language_info": {
      "name": "python"
    },
    "accelerator": "GPU",
    "gpuClass": "standard"
  },
  "cells": [
    {
      "cell_type": "code",
      "source": [
        "import os, subprocess, time, glob\n",
        "output_path = 'AI_PICS'\n",
        "username='a'\n",
        "password='a'\n",
        "NGROK ='' "
      ],
      "metadata": {
        "id": "8qIwTfwh7GKn"
      },
      "execution_count": null,
      "outputs": []
    },
    {
      "cell_type": "code",
      "source": [
        "Save_In_Google_Drive = 'Models Only'\n",
        "Everything = 1\n",
        "Models_only = 2\n",
        "Nothing = 3\n",
        "if Save_In_Google_Drive == 'Models Only':\n",
        "  gMode = Models_only\n",
        "elif Save_In_Google_Drive == 'Everything':\n",
        "  gMode = Everything\n",
        "elif Save_In_Google_Drive == 'Nothing':\n",
        "  gMode = Nothing\n",
        "else:\n",
        "  raise ValueError(\"Save_In_Google_Drive value invalid.\")"
      ],
      "metadata": {
        "id": "ngCR3uAu7GHv"
      },
      "execution_count": null,
      "outputs": []
    },
    {
      "cell_type": "code",
      "source": [
        "Clear_Log = True\n",
        "v1_5_inpainting_model = True\n",
        "v2_depth_model = False\n",
        "Model_from_URL = ''\n",
        "Extensions_from_URL = ''"
      ],
      "metadata": {
        "id": "JczqwkJf7GE1"
      },
      "execution_count": null,
      "outputs": []
    },
    {
      "cell_type": "code",
      "source": [
        "if gMode != Nothing:\n",
        "  # connect to google drive\n",
        "  from google.colab import drive\n",
        "  drive.mount('/content/drive') \n",
        "  output_path = '/content/drive/MyDrive/' + output_path\n",
        "  if gMode == Everything:\n",
        "    # install A1111 in AI_PIC\n",
        "    root = output_path \n",
        "  elif gMode == Models_only:\n",
        "    # install A1111 in Colab\n",
        "    root = '/content/' \n",
        "    !mkdir -p {output_path}/outputs\n",
        "    !mkdir -p {output_path}/models\n",
        "    !mkdir -p {output_path}/ESRGAN\n",
        "    !mkdir -p {output_path}/hypernetworks\n",
        "  else:\n",
        "    raise ValueError(\"Unexpected gMode: %s\"%gMode)\n",
        "else:\n",
        "  # Don't connect to google drive\n",
        "  output_path = '/content/' + output_path\n",
        "  root = '/content/' "
      ],
      "metadata": {
        "colab": {
          "base_uri": "https://localhost:8080/"
        },
        "id": "bk7K3D_D7F52",
        "outputId": "a6acd990-02ca-4eca-ea23-014ed8ef34b6"
      },
      "execution_count": null,
      "outputs": [
        {
          "output_type": "stream",
          "name": "stdout",
          "text": [
            "Mounted at /content/drive\n"
          ]
        }
      ]
    },
    {
      "cell_type": "code",
      "source": [
        "def clear():\n",
        "    from IPython.display import clear_output; return clear_output()\n",
        "\n",
        "def fetch_bytes(url_or_path):\n",
        "    if str(url_or_path).startswith('http://') or str(url_or_path).startswith('https://'):\n",
        "        from urllib.request import urlopen \n",
        "        return urlopen(url_or_path) \n",
        "    return open(url_or_path, 'r')\n",
        "\n",
        "def packages():\n",
        "    import sys, subprocess\n",
        "    return [r.decode().split('==')[0] for r in subprocess.check_output([sys.executable, '-m', 'pip', 'freeze']).split()]\n",
        "\n",
        "def downloadModel(url):\n",
        "  if 'huggingface.co' in url:\n",
        "    filename = url.split('/')[-1]\n",
        "    !aria2c --console-log-level=error -c -x 16 -s 16 -k 1M {url}  -o {filename}\n",
        "  else:\n",
        "    # civitai\n",
        "    !aria2c --console-log-level=error -c -x 16 -s 16 -k 1M {url}\n"
      ],
      "metadata": {
        "id": "7fQQtnQZ7b3x"
      },
      "execution_count": null,
      "outputs": []
    },
    {
      "cell_type": "code",
      "source": [
        "def download_models():\n",
        "  %cd {root}/stable-diffusion-webui/models/Stable-diffusion\n",
        "  print('⏳ Downloading models ...')\n",
        "  if v1_5_inpainting_model:  \n",
        "    downloadModel('https://huggingface.co/runwayml/stable-diffusion-inpainting/resolve/main/sd-v1-5-inpainting.ckpt')\n",
        "  if v2_depth_model:\n",
        "    downloadModel('https://huggingface.co/stabilityai/stable-diffusion-2-depth/resolve/main/512-depth-ema.ckpt')\n",
        "    !wget -nc https://raw.githubusercontent.com/Stability-AI/stablediffusion/main/configs/stable-diffusion/v2-midas-inference.yaml -O {root}/stable-diffusion-webui/models/Stable-diffusion/512-depth-ema.yaml\n",
        "  if Model_from_URL:\n",
        "      for m in Model_from_URL.split(','):\n",
        "        %cd {root}/stable-diffusion-webui/models/Stable-diffusion\n",
        "        downloadModel(m)\n",
        "  # download VAEs\n",
        "  !aria2c --console-log-level=error -c -x 16 -s 16 -k 1M https://huggingface.co/stabilityai/sd-vae-ft-ema-original/resolve/main/vae-ft-ema-560000-ema-pruned.ckpt -d {root}/stable-diffusion-webui/models/VAE/ -o vae-ft-ema-560000-ema-pruned.ckpt\n",
        "  !aria2c --console-log-level=error -c -x 16 -s 16 -k 1M https://huggingface.co/stabilityai/sd-vae-ft-mse-original/resolve/main/vae-ft-mse-840000-ema-pruned.ckpt -d {root}/stable-diffusion-webui/models/VAE/ -o vae-ft-mse-840000-ema-pruned.ckpt"
      ],
      "metadata": {
        "id": "2E2dPGn2BeMA"
      },
      "execution_count": null,
      "outputs": []
    },
    {
      "cell_type": "code",
      "source": [
        "def installxformers():\n",
        "  #!pip install -q https://github.com/camenduru/stable-diffusion-webui-colab/releases/download/0.0.16/xformers-0.0.16+814314d.d20230118-cp38-cp38-linux_x86_64.whl\n",
        "  #%pip install --no-deps -q https://github.com/brian6091/xformers-wheels/releases/download/0.0.15.dev0%2B4c06c79/xformers-0.0.15.dev0+4c06c79.d20221205-cp38-cp38-linux_x86_64.whl\n",
        "  %pip install -q xformers\n",
        "\n",
        "def updatePython():\n",
        "  !python --version > /content/pyversion\n",
        "  with open('/content/pyversion', 'r') as file:\n",
        "      if '3.10' in file.read():\n",
        "        print('Already python 3.10. Skip install.')\n",
        "        return\n",
        "\n",
        "  #install python 3.10\n",
        "  !apt-get update -y\n",
        "  !apt-get install python3.10\n",
        "\n",
        "  #change alternatives\n",
        "  !rm /usr/local/bin/python\n",
        "  !rm /usr/local/bin/pip\n",
        "  !sudo apt-get install python3.10-distutils\n",
        "  !sudo update-alternatives --install /usr/local/bin/python python /usr/bin/python3.10 2\n",
        "  !wget https://bootstrap.pypa.io/get-pip.py && python get-pip.py"
      ],
      "metadata": {
        "id": "if6DV09gEQpX"
      },
      "execution_count": null,
      "outputs": []
    },
    {
      "cell_type": "code",
      "source": [
        "def initSaveGoogleDriveModelOnly():\n",
        "  # Use config file in google drive\n",
        "  if not os.path.exists(output_path + '/ui-config.json'):\n",
        "    print(\"Create new ui-config.json file.\")    \n",
        "    !wget https://github.com/sagiodev/stablediffusion_webui/raw/master/ui-config.json -O {output_path + '/ui-config.json'}\n",
        "  if not os.path.exists(output_path + '/config.json'):\n",
        "    print(\"Create new config.json file.\")    \n",
        "    !wget https://github.com/sagiodev/stablediffusion_webui/raw/master/config.json -O {output_path + '/config.json'}\n",
        "\n",
        "  #!rm /content/stable-diffusion-webui/ui-config.json\n",
        "  !ln -s {output_path + '/ui-config.json'} {root}/stable-diffusion-webui/\n",
        "  !ln -s {output_path + '/config.json'} {root}/stable-diffusion-webui/\n",
        "  !ln -s {output_path}/outputs\n",
        "  \n",
        "  # embeddings folder on Google Drive\n",
        "  !mkdir -p {output_path}/embeddings  \n",
        "  !rm -rf embeddings\n",
        "  !ln -s {output_path}/embeddings\n",
        "\n",
        "  # save parameter file in google drive\n",
        "  if not os.path.exists(output_path + '/params.txt'):\n",
        "    !touch {output_path + '/params.txt'}\n",
        "  !ln -s {output_path}/params.txt\n",
        "\n",
        "  # link all models in the models folder\n",
        "  %cd {root}/stable-diffusion-webui/models/Stable-diffusion\n",
        "  models_in_google_drive = glob.glob(output_path + '/models/*')\n",
        "  print('Models in Google Drive: %s'%models_in_google_drive)\n",
        "  for f in models_in_google_drive:\n",
        "    !ln -s {f}\n",
        "\n",
        "  # link all upscalers in the model folder\n",
        "  !mkdir -p {root}/stable-diffusion-webui/models/ESRGAN\n",
        "  %cd {root}/stable-diffusion-webui/models/ESRGAN\n",
        "  upscalers_in_google_drive = glob.glob(output_path + '/ESRGAN/*')\n",
        "  print('Upscalers in Google Drive: %s'%upscalers_in_google_drive)\n",
        "  for f in upscalers_in_google_drive:\n",
        "    !ln -s {f}\n",
        "\n",
        "  # use lora model folder in google drive\n",
        "  !mkdir -p {output_path}/Lora\n",
        "  %cd {root}/stable-diffusion-webui/models\n",
        "  !rm -rf Lora\n",
        "  !ln -s {output_path}/Lora\n",
        "\n",
        "  # use hypernetwork folder in google drive\n",
        "  !mkdir -p {output_path}/hypernetworks\n",
        "  %cd {root}/stable-diffusion-webui/models\n",
        "  !rm -rf hypernetworks\n",
        "  !ln -s {output_path}/hypernetworks\n",
        "\n",
        "  # use VAE folder in google rive\n",
        "  !mkdir -p {output_path}/VAE\n",
        "  %cd {root}/stable-diffusion-webui/models\n",
        "  !rm -rf VAE\n",
        "  !ln -s {output_path}/VAE"
      ],
      "metadata": {
        "id": "lBVHIKlvCVal"
      },
      "execution_count": null,
      "outputs": []
    },
    {
      "cell_type": "code",
      "source": [
        "def applyGitFilemode():\n",
        "  # git default file mode prevents checkout and fail\n",
        "  print('Apply git filemode false')\n",
        "  !cd {root}/stable-diffusion-webui/repositories/k-diffusion;git config core.filemode false\n",
        "  !cd {root}/stable-diffusion-webui/repositories/stable-diffusion-stability-ai;git config core.filemode false\n",
        "  !cd {root}/stable-diffusion-webui/repositories/taming-transformers;git config core.filemode false\n",
        "  !cd {root}/stable-diffusion-webui/repositories/CodeFormer;git config core.filemode false\n",
        "  !cd {root}/stable-diffusion-webui/repositories/BLIP;git config core.filemode false  \n",
        "  \n",
        "def cloneRepositories():\n",
        "  !git clone https://github.com/crowsonkb/k-diffusion.git {root}/stable-diffusion-webui/repositories/k-diffusion\n",
        "  !git clone https://github.com/Stability-AI/stablediffusion.git {root}/stable-diffusion-webui/repositories/stable-diffusion-stability-ai\n",
        "  !git clone https://github.com/CompVis/taming-transformers.git {root}/stable-diffusion-webui/repositories/taming-transformers\n",
        "  !git clone https://github.com/sczhou/CodeFormer.git {root}/stable-diffusion-webui/repositories/CodeFormer\n",
        "  !git clone https://github.com/salesforce/BLIP.git {root}/stable-diffusion-webui/repositories/BLIP\n",
        "  \n",
        "\n",
        "def installExtensionsFromURL(urls):\n",
        "  %cd {root}/stable-diffusion-webui/extensions\n",
        "  for url in urls.split(','):\n",
        "    !git clone {url}\n",
        "\n",
        "def lowRamPatch():\n",
        "  !sed -i -e '''/prepare_environment()/a\\    os.system\\(f\\\"\"\"sed -i -e ''\\\"s/dict()))/dict())).cuda()/g\\\"'' {root}/stable-diffusion-webui/repositories/stable-diffusion-stability-ai/ldm/util.py\"\"\")''' {root}/stable-diffusion-webui/launch.py\n",
        "\n",
        "def deleteRepos():\n",
        "  # delete repository directories in webui\n",
        "  !rm -rf {root}/stable-diffusion-webui/repositories"
      ],
      "metadata": {
        "id": "sVdpSLLFCrGi"
      },
      "execution_count": null,
      "outputs": []
    },
    {
      "cell_type": "code",
      "source": [
        "updatePython()\n",
        "\n",
        "!mkdir -p {root}\n",
        "os.chdir(root)\n",
        "!apt-get -y install -qq aria2\n",
        "!pip install pyngrok\n",
        "!git clone https://github.com/AUTOMATIC1111/stable-diffusion-webui"
      ],
      "metadata": {
        "colab": {
          "base_uri": "https://localhost:8080/"
        },
        "id": "kSSYjG9aCuLt",
        "outputId": "28a358db-a644-430f-fd4d-8fd8041633ef"
      },
      "execution_count": null,
      "outputs": [
        {
          "output_type": "stream",
          "name": "stdout",
          "text": [
            "Already python 3.10. Skip install.\n",
            "Selecting previously unselected package libc-ares2:amd64.\n",
            "(Reading database ... 122545 files and directories currently installed.)\n",
            "Preparing to unpack .../libc-ares2_1.15.0-1ubuntu0.2_amd64.deb ...\n",
            "Unpacking libc-ares2:amd64 (1.15.0-1ubuntu0.2) ...\n",
            "Selecting previously unselected package libaria2-0:amd64.\n",
            "Preparing to unpack .../libaria2-0_1.35.0-1build1_amd64.deb ...\n",
            "Unpacking libaria2-0:amd64 (1.35.0-1build1) ...\n",
            "Selecting previously unselected package aria2.\n",
            "Preparing to unpack .../aria2_1.35.0-1build1_amd64.deb ...\n",
            "Unpacking aria2 (1.35.0-1build1) ...\n",
            "Setting up libc-ares2:amd64 (1.15.0-1ubuntu0.2) ...\n",
            "Setting up libaria2-0:amd64 (1.35.0-1build1) ...\n",
            "Setting up aria2 (1.35.0-1build1) ...\n",
            "Processing triggers for man-db (2.9.1-1) ...\n",
            "Processing triggers for libc-bin (2.31-0ubuntu9.9) ...\n",
            "Looking in indexes: https://pypi.org/simple, https://us-python.pkg.dev/colab-wheels/public/simple/\n",
            "Collecting pyngrok\n",
            "  Downloading pyngrok-6.0.0.tar.gz (681 kB)\n",
            "\u001b[2K     \u001b[90m━━━━━━━━━━━━━━━━━━━━━━━━━━━━━━━━━━━━━━\u001b[0m \u001b[32m681.2/681.2 kB\u001b[0m \u001b[31m30.8 MB/s\u001b[0m eta \u001b[36m0:00:00\u001b[0m\n",
            "\u001b[?25h  Preparing metadata (setup.py) ... \u001b[?25l\u001b[?25hdone\n",
            "Requirement already satisfied: PyYAML in /usr/local/lib/python3.10/dist-packages (from pyngrok) (6.0)\n",
            "Building wheels for collected packages: pyngrok\n",
            "  Building wheel for pyngrok (setup.py) ... \u001b[?25l\u001b[?25hdone\n",
            "  Created wheel for pyngrok: filename=pyngrok-6.0.0-py3-none-any.whl size=19867 sha256=ac91a87cad9e7521ada5ca35647e188b3216e4a36c87e87ee06999ba7075901e\n",
            "  Stored in directory: /root/.cache/pip/wheels/5c/42/78/0c3d438d7f5730451a25f7ac6cbf4391759d22a67576ed7c2c\n",
            "Successfully built pyngrok\n",
            "Installing collected packages: pyngrok\n",
            "Successfully installed pyngrok-6.0.0\n",
            "Cloning into 'stable-diffusion-webui'...\n",
            "remote: Enumerating objects: 21240, done.\u001b[K\n",
            "remote: Total 21240 (delta 0), reused 0 (delta 0), pack-reused 21240\u001b[K\n",
            "Receiving objects: 100% (21240/21240), 29.82 MiB | 15.28 MiB/s, done.\n",
            "Resolving deltas: 100% (14900/14900), done.\n"
          ]
        }
      ]
    },
    {
      "cell_type": "code",
      "source": [
        "if gMode == Everything:\n",
        "  # delete existing repositories and reclone so the file mode fix can be applied\n",
        "  # otherwise some will only be cloned in the final launch, causing some to fail to checkout.\n",
        "  deleteRepos()\n",
        "  cloneRepositories()\n",
        "  applyGitFilemode()\n",
        "\n",
        "# fix torch, torchvision version mismatch error\n",
        "!pip install torch==1.13.1+cu117 torchvision==0.14.1+cu117 torchtext==0.14.1 torchaudio==0.13.1 torchdata==0.5.1 --extra-index-url https://download.pytorch.org/whl/cu117\n",
        "\n",
        "# A1111 first launch\n",
        "%cd {root}/stable-diffusion-webui\n",
        "!git checkout -f a9fed7c364061ae6efb37f797b6b522cb3cf7aa2\n",
        "#!git checkout -f 22bcc7be428c94e9408f589966c2040187245d81\n",
        "!COMMANDLINE_ARGS=\"--exit\"  python launch.py\n",
        "\n",
        "\n",
        "if gMode == Models_only:\n",
        "  initSaveGoogleDriveModelOnly()\n",
        "\n",
        "download_models()"
      ],
      "metadata": {
        "colab": {
          "base_uri": "https://localhost:8080/"
        },
        "id": "8ntkPN3qDl12",
        "outputId": "109979a1-2470-4ea4-e3e7-1de068b141e3"
      },
      "execution_count": null,
      "outputs": [
        {
          "output_type": "stream",
          "name": "stdout",
          "text": [
            "Looking in indexes: https://pypi.org/simple, https://us-python.pkg.dev/colab-wheels/public/simple/, https://download.pytorch.org/whl/cu117\n",
            "Collecting torch==1.13.1+cu117\n",
            "  Downloading https://download.pytorch.org/whl/cu117/torch-1.13.1%2Bcu117-cp310-cp310-linux_x86_64.whl (1801.8 MB)\n",
            "\u001b[2K     \u001b[90m━━━━━━━━━━━━━━━━━━━━━━━━━━━━━━━━━━━━━━━━\u001b[0m \u001b[32m1.8/1.8 GB\u001b[0m \u001b[31m853.3 kB/s\u001b[0m eta \u001b[36m0:00:00\u001b[0m\n",
            "\u001b[?25hCollecting torchvision==0.14.1+cu117\n",
            "  Downloading https://download.pytorch.org/whl/cu117/torchvision-0.14.1%2Bcu117-cp310-cp310-linux_x86_64.whl (24.3 MB)\n",
            "\u001b[2K     \u001b[90m━━━━━━━━━━━━━━━━━━━━━━━━━━━━━━━━━━━━━━━━\u001b[0m \u001b[32m24.3/24.3 MB\u001b[0m \u001b[31m48.4 MB/s\u001b[0m eta \u001b[36m0:00:00\u001b[0m\n",
            "\u001b[?25hCollecting torchtext==0.14.1\n",
            "  Downloading torchtext-0.14.1-cp310-cp310-manylinux1_x86_64.whl (2.0 MB)\n",
            "\u001b[2K     \u001b[90m━━━━━━━━━━━━━━━━━━━━━━━━━━━━━━━━━━━━━━━━\u001b[0m \u001b[32m2.0/2.0 MB\u001b[0m \u001b[31m55.3 MB/s\u001b[0m eta \u001b[36m0:00:00\u001b[0m\n",
            "\u001b[?25hCollecting torchaudio==0.13.1\n",
            "  Downloading https://download.pytorch.org/whl/cu117/torchaudio-0.13.1%2Bcu117-cp310-cp310-linux_x86_64.whl (4.2 MB)\n",
            "\u001b[2K     \u001b[90m━━━━━━━━━━━━━━━━━━━━━━━━━━━━━━━━━━━━━━━━\u001b[0m \u001b[32m4.2/4.2 MB\u001b[0m \u001b[31m85.7 MB/s\u001b[0m eta \u001b[36m0:00:00\u001b[0m\n",
            "\u001b[?25hCollecting torchdata==0.5.1\n",
            "  Downloading torchdata-0.5.1-cp310-cp310-manylinux_2_17_x86_64.manylinux2014_x86_64.whl (4.6 MB)\n",
            "\u001b[2K     \u001b[90m━━━━━━━━━━━━━━━━━━━━━━━━━━━━━━━━━━━━━━━━\u001b[0m \u001b[32m4.6/4.6 MB\u001b[0m \u001b[31m116.6 MB/s\u001b[0m eta \u001b[36m0:00:00\u001b[0m\n",
            "\u001b[?25hRequirement already satisfied: typing-extensions in /usr/local/lib/python3.10/dist-packages (from torch==1.13.1+cu117) (4.5.0)\n",
            "Requirement already satisfied: numpy in /usr/local/lib/python3.10/dist-packages (from torchvision==0.14.1+cu117) (1.22.4)\n",
            "Requirement already satisfied: requests in /usr/local/lib/python3.10/dist-packages (from torchvision==0.14.1+cu117) (2.27.1)\n",
            "Requirement already satisfied: pillow!=8.3.*,>=5.3.0 in /usr/local/lib/python3.10/dist-packages (from torchvision==0.14.1+cu117) (8.4.0)\n",
            "Requirement already satisfied: tqdm in /usr/local/lib/python3.10/dist-packages (from torchtext==0.14.1) (4.65.0)\n",
            "Requirement already satisfied: urllib3>=1.25 in /usr/local/lib/python3.10/dist-packages (from torchdata==0.5.1) (1.26.15)\n",
            "Collecting portalocker>=2.0.0 (from torchdata==0.5.1)\n",
            "  Downloading portalocker-2.7.0-py2.py3-none-any.whl (15 kB)\n",
            "Requirement already satisfied: certifi>=2017.4.17 in /usr/local/lib/python3.10/dist-packages (from requests->torchvision==0.14.1+cu117) (2022.12.7)\n",
            "Requirement already satisfied: charset-normalizer~=2.0.0 in /usr/local/lib/python3.10/dist-packages (from requests->torchvision==0.14.1+cu117) (2.0.12)\n",
            "Requirement already satisfied: idna<4,>=2.5 in /usr/local/lib/python3.10/dist-packages (from requests->torchvision==0.14.1+cu117) (3.4)\n",
            "Installing collected packages: torch, portalocker, torchvision, torchtext, torchdata, torchaudio\n",
            "  Attempting uninstall: torch\n",
            "    Found existing installation: torch 2.0.1+cu118\n",
            "    Uninstalling torch-2.0.1+cu118:\n",
            "      Successfully uninstalled torch-2.0.1+cu118\n",
            "  Attempting uninstall: torchvision\n",
            "    Found existing installation: torchvision 0.15.2+cu118\n",
            "    Uninstalling torchvision-0.15.2+cu118:\n",
            "      Successfully uninstalled torchvision-0.15.2+cu118\n",
            "  Attempting uninstall: torchtext\n",
            "    Found existing installation: torchtext 0.15.2\n",
            "    Uninstalling torchtext-0.15.2:\n",
            "      Successfully uninstalled torchtext-0.15.2\n",
            "  Attempting uninstall: torchdata\n",
            "    Found existing installation: torchdata 0.6.1\n",
            "    Uninstalling torchdata-0.6.1:\n",
            "      Successfully uninstalled torchdata-0.6.1\n",
            "  Attempting uninstall: torchaudio\n",
            "    Found existing installation: torchaudio 2.0.2+cu118\n",
            "    Uninstalling torchaudio-2.0.2+cu118:\n",
            "      Successfully uninstalled torchaudio-2.0.2+cu118\n",
            "Successfully installed portalocker-2.7.0 torch-1.13.1+cu117 torchaudio-0.13.1+cu117 torchdata-0.5.1 torchtext-0.14.1 torchvision-0.14.1+cu117\n",
            "/content/stable-diffusion-webui\n",
            "Note: switching to 'a9fed7c364061ae6efb37f797b6b522cb3cf7aa2'.\n",
            "\n",
            "You are in 'detached HEAD' state. You can look around, make experimental\n",
            "changes and commit them, and you can discard any commits you make in this\n",
            "state without impacting any branches by switching back to a branch.\n",
            "\n",
            "If you want to create a new branch to retain commits you create, you may\n",
            "do so (now or later) by using -c with the switch command. Example:\n",
            "\n",
            "  git switch -c <new-branch-name>\n",
            "\n",
            "Or undo this operation with:\n",
            "\n",
            "  git switch -\n",
            "\n",
            "Turn off this advice by setting config variable advice.detachedHead to false\n",
            "\n",
            "HEAD is now at a9fed7c3 Merge pull request #8503 from mcmonkey4eva/filename-length-limit-fix\n",
            "Python 3.10.11 (main, Apr  5 2023, 14:15:10) [GCC 9.4.0]\n",
            "Commit hash: a9fed7c364061ae6efb37f797b6b522cb3cf7aa2\n",
            "Installing gfpgan\n",
            "Installing clip\n",
            "Installing open_clip\n",
            "Cloning Stable Diffusion into /content/stable-diffusion-webui/repositories/stable-diffusion-stability-ai...\n",
            "Cloning Taming Transformers into /content/stable-diffusion-webui/repositories/taming-transformers...\n",
            "Cloning K-diffusion into /content/stable-diffusion-webui/repositories/k-diffusion...\n",
            "Cloning CodeFormer into /content/stable-diffusion-webui/repositories/CodeFormer...\n",
            "Cloning BLIP into /content/stable-diffusion-webui/repositories/BLIP...\n",
            "Installing requirements for CodeFormer\n",
            "Installing requirements for Web UI\n",
            "Exiting because of --exit argument\n",
            "/content/stable-diffusion-webui/models/Stable-diffusion\n",
            "Models in Google Drive: []\n",
            "/content/stable-diffusion-webui/models/ESRGAN\n",
            "Upscalers in Google Drive: []\n",
            "/content/stable-diffusion-webui/models\n",
            "/content/stable-diffusion-webui/models\n",
            "/content/stable-diffusion-webui/models\n",
            "/content/stable-diffusion-webui/models/Stable-diffusion\n",
            "⏳ Downloading models ...\n",
            "\u001b[0m\n",
            "Download Results:\n",
            "gid   |stat|avg speed  |path/URI\n",
            "======+====+===========+=======================================================\n",
            "30a9b7|\u001b[1;32mOK\u001b[0m  |   207MiB/s|/content/stable-diffusion-webui/models/Stable-diffusion/sd-v1-5-inpainting.ckpt\n",
            "\n",
            "Status Legend:\n",
            "(OK):download completed.\n",
            "\n",
            "Download Results:\n",
            "gid   |stat|avg speed  |path/URI\n",
            "======+====+===========+=======================================================\n",
            "fa6aef|\u001b[1;32mOK\u001b[0m  |       0B/s|/content//stable-diffusion-webui/models/VAE//vae-ft-ema-560000-ema-pruned.ckpt\n",
            "\n",
            "Status Legend:\n",
            "(OK):download completed.\n",
            "\n",
            "Download Results:\n",
            "gid   |stat|avg speed  |path/URI\n",
            "======+====+===========+=======================================================\n",
            "637a28|\u001b[1;32mOK\u001b[0m  |       0B/s|/content//stable-diffusion-webui/models/VAE//vae-ft-mse-840000-ema-pruned.ckpt\n",
            "\n",
            "Status Legend:\n",
            "(OK):download completed.\n"
          ]
        }
      ]
    },
    {
      "cell_type": "code",
      "source": [
        "installExtensionsFromURL(Extensions_from_URL)\n",
        "\n",
        "# clear output\n",
        "if Clear_Log:\n",
        "  clear()\n",
        "\n",
        "\n",
        "\n",
        "\n",
        "if  gMode != Everything:\n",
        "  lowRamPatch()\n",
        "\n",
        "%cd {root}/stable-diffusion-webui  \n",
        "args = f'--gradio-img2img-tool color-sketch --enable-insecure-extension-access --gradio-queue --xformers'\n",
        "\n",
        "if NGROK:\n",
        "  args += f' --ngrok {NGROK} '\n",
        "else:\n",
        "  args += ' --share '\n",
        "if username and password:\n",
        "  args += f' --gradio-auth {username}:{password} '\n",
        "print(f'WEBUI ARGUMENTS: {args}')\n",
        "!python {root}/stable-diffusion-webui/launch.py {args}\n"
      ],
      "metadata": {
        "colab": {
          "base_uri": "https://localhost:8080/"
        },
        "id": "oDkhh8-PD9gY",
        "outputId": "786c947a-ab37-417c-8693-383e9e8cb51c"
      },
      "execution_count": null,
      "outputs": [
        {
          "output_type": "stream",
          "name": "stdout",
          "text": [
            "/content/stable-diffusion-webui\n",
            "WEBUI ARGUMENTS: --gradio-img2img-tool color-sketch --enable-insecure-extension-access --gradio-queue --xformers --share  --gradio-auth a:a \n",
            "Python 3.10.11 (main, Apr  5 2023, 14:15:10) [GCC 9.4.0]\n",
            "Commit hash: a9fed7c364061ae6efb37f797b6b522cb3cf7aa2\n",
            "Installing xformers\n",
            "Installing requirements for Web UI\n",
            "Launching Web UI with arguments: --gradio-img2img-tool color-sketch --enable-insecure-extension-access --gradio-queue --xformers --share --gradio-auth a:a\n",
            "2023-05-26 08:14:28.549934: I tensorflow/core/platform/cpu_feature_guard.cc:182] This TensorFlow binary is optimized to use available CPU instructions in performance-critical operations.\n",
            "To enable the following instructions: AVX2 AVX512F FMA, in other operations, rebuild TensorFlow with the appropriate compiler flags.\n",
            "2023-05-26 08:14:30.839767: W tensorflow/compiler/tf2tensorrt/utils/py_utils.cc:38] TF-TRT Warning: Could not find TensorRT\n",
            "Checkpoint 512-depth-ema.ckpt [ece79d931a] not found; loading fallback sd-v1-5-inpainting.ckpt\n",
            "Calculating sha256 for /content/stable-diffusion-webui/models/Stable-diffusion/sd-v1-5-inpainting.ckpt: c6bbc15e3224e6973459ba78de4998b80b50112b0ae5b5c67113d56b4e366b19\n",
            "Loading weights [c6bbc15e32] from /content/stable-diffusion-webui/models/Stable-diffusion/sd-v1-5-inpainting.ckpt\n",
            "Creating model from config: /content/stable-diffusion-webui/configs/v1-inpainting-inference.yaml\n",
            "LatentInpaintDiffusion: Running in eps-prediction mode\n",
            "DiffusionWrapper has 859.54 M params.\n",
            "Downloading (…)olve/main/vocab.json: 100% 961k/961k [00:00<00:00, 6.07MB/s]\n",
            "Downloading (…)olve/main/merges.txt: 100% 525k/525k [00:00<00:00, 226MB/s]\n",
            "Downloading (…)cial_tokens_map.json: 100% 389/389 [00:00<00:00, 1.83MB/s]\n",
            "Downloading (…)okenizer_config.json: 100% 905/905 [00:00<00:00, 4.49MB/s]\n",
            "Downloading (…)lve/main/config.json: 100% 4.52k/4.52k [00:00<00:00, 14.9MB/s]\n",
            "Loading VAE weights specified in settings: /content/stable-diffusion-webui/models/VAE/vae-ft-ema-560000-ema-pruned.ckpt\n",
            "Applying xformers cross attention optimization.\n",
            "Textual inversion embeddings loaded(0): \n",
            "Model loaded in 58.0s (calculate hash: 23.9s, load weights from disk: 10.6s, create model: 12.9s, apply weights to model: 1.2s, load VAE: 9.2s).\n",
            "Running on local URL:  http://127.0.0.1:7860\n",
            "Running on public URL: https://05a23111-ccb7-4a2b.gradio.live\n",
            "\n",
            "This share link expires in 72 hours. For free permanent hosting and GPU upgrades (NEW!), check out Spaces: https://huggingface.co/spaces\n",
            "Startup time: 85.2s (import gradio: 4.1s, import ldm: 7.7s, other imports: 4.4s, setup codeformer: 0.2s, load scripts: 1.3s, load SD checkpoint: 58.1s, create ui: 1.2s, gradio launch: 8.3s).\n"
          ]
        }
      ]
    },
    {
      "cell_type": "code",
      "source": [],
      "metadata": {
        "id": "HwWKldJIFON8"
      },
      "execution_count": null,
      "outputs": []
    }
  ]
}